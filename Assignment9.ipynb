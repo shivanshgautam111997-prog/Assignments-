{
 "cells": [
  {
   "cell_type": "code",
   "execution_count": 1,
   "id": "039e5bef-19f2-407d-9560-39ccd101e8b4",
   "metadata": {},
   "outputs": [],
   "source": [
    "# 1.) Create a base class `Animal` with attributes `name` and `species`, and a method `describe` to print them. Create a derived class `Dog` with an \n",
    "# additional attribute `breed` and a method `bark` to print \"Woof! Woof!\". Instantiate a `Dog` object and call its methods.\n"
   ]
  },
  {
   "cell_type": "code",
   "execution_count": 7,
   "id": "943c1d39-5865-456f-b43d-19c88ab2c9a4",
   "metadata": {},
   "outputs": [
    {
     "name": "stdout",
     "output_type": "stream",
     "text": [
      "Buddy - Dog\n",
      "Woof! Woof!\n"
     ]
    }
   ],
   "source": [
    "class Animal:\n",
    "    def __init__(self, name, species):\n",
    "        self.name = name\n",
    "        self.species = species\n",
    "\n",
    "    def describe(self):\n",
    "        print(self.name, \"-\", self.species)\n",
    "\n",
    "class Dog(Animal):\n",
    "    def __init__(self, name, breed):\n",
    "        super().__init__(name, \"Dog\")\n",
    "        self.breed = breed\n",
    "\n",
    "    def bark(self):\n",
    "        print(\"Woof! Woof!\")\n",
    "\n",
    "d = Dog(\"Buddy\", \"Golden Retriever\")\n",
    "d.describe()\n",
    "d.bark()\n"
   ]
  },
  {
   "cell_type": "code",
   "execution_count": 8,
   "id": "3116f117-7ca4-43c4-b733-ddf413951489",
   "metadata": {},
   "outputs": [],
   "source": [
    "# 2. ) Define a class `Person` with attributes `first_name` and `last_name`, and a method `print_name`.\n",
    "#  Create a derived class `Employee` with an additional attribute `employee_id`. Use the `super()` method to initialize the inherited attributes. \n",
    "# Add a method `print_employee_info`. Instantiate an `Employee` object and call its methods.\n"
   ]
  },
  {
   "cell_type": "code",
   "execution_count": 48,
   "id": "d432e60e-8b17-406d-a1df-978b4c090b1f",
   "metadata": {},
   "outputs": [
    {
     "name": "stdout",
     "output_type": "stream",
     "text": [
      "Shivanshu Gautam\n",
      "Shivanshu Gautam\n",
      "Employee ID: 55527\n"
     ]
    }
   ],
   "source": [
    "class Person:\n",
    "    def __init__(self, first_name, last_name):\n",
    "        self.first_name = first_name\n",
    "        self.last_name = last_name\n",
    "        \n",
    "    def print_name(self):\n",
    "        print(self.first_name, self.last_name)  \n",
    "\n",
    "class Employee(Person):\n",
    "    def __init__(self, first_name, last_name, employee_id):\n",
    "        super().__init__(first_name, last_name)\n",
    "        self.employee_id = employee_id\n",
    "        \n",
    "    def print_employee_info(self):\n",
    "        self.print_name()\n",
    "        print(f\"Employee ID: {self.employee_id}\")\n",
    "        \n",
    "\n",
    "e = Employee(\"Shivanshu\", \"Gautam\", 55527)\n",
    "e.print_name()\n",
    "e.print_employee_info()\n"
   ]
  },
  {
   "cell_type": "code",
   "execution_count": 17,
   "id": "2161ff54-a74d-43de-8cc5-2a1b4c116eaf",
   "metadata": {},
   "outputs": [],
   "source": [
    "# 3. ) Define a class `Shape` with a method `area` returning 0. Create derived classes `Circle` and `Rectangle`, overriding the `area` method to return \n",
    "# the actual area. Instantiate objects of `Circle` and `Rectangle` and print their areas.\n"
   ]
  },
  {
   "cell_type": "code",
   "execution_count": 27,
   "id": "ab713f0f-535e-477f-b4a4-3fd3154d8358",
   "metadata": {},
   "outputs": [
    {
     "name": "stdout",
     "output_type": "stream",
     "text": [
      "Circle area: 78.53999999999999\n",
      "Rectangle area: 24\n"
     ]
    }
   ],
   "source": [
    "class Shape:\n",
    "    def area(self):\n",
    "        return 0\n",
    "        \n",
    "class Circle(Shape):\n",
    "    def __init__(self, r): self.r = r\n",
    "    def area(self): return 3.1416 * self.r**2\n",
    "\n",
    "class Rectangle(Shape):\n",
    "    def __init__(self, w, h): self.w, self.h = w, h\n",
    "    def area(self): return self.w * self.h\n",
    "\n",
    "print(\"Circle area:\", Circle(5).area())\n",
    "print(\"Rectangle area:\", Rectangle(4, 6).area())\n"
   ]
  },
  {
   "cell_type": "code",
   "execution_count": null,
   "id": "63168b8d-eacd-4287-8e55-fc2fd515474e",
   "metadata": {},
   "outputs": [],
   "source": [
    "# 4.)Create base classes `Flying` with a method `fly` and `Swimming` with a method `swim`. Create a derived class `Duck` inheriting from both,\n",
    "# with an additional method `quack`. Instantiate a `Duck` object and call all its methods.\n",
    "# 5.) Define class `A` with a method `method_A`, and class `E` with a method `method_E`. Create class `B` inheriting from `A` with a method\n",
    "#`method_B`, and class `C` inheriting from `A` and `E` with a method `method_C`. Define class `D` inheriting from both `B` and `C`\n",
    "#with a method `method_D`. Instantiate a `D` object and call all its methods."
   ]
  },
  {
   "cell_type": "code",
   "execution_count": null,
   "id": "0eb34e64-0b79-4640-a4c6-d5fedd2d2d46",
   "metadata": {},
   "outputs": [],
   "source": [
    "class Flying:\n",
    "    def fly(self):\n",
    "        print(\"I can fly\")\n",
    "\n",
    "class Swimming:\n",
    "    def swim(self):\n",
    "        print(\"I can swim\")\n",
    "\n",
    "class Duck(Flying, Swimming):\n",
    "    def quack(self):\n",
    "        print(\"Quack! Quack!\")\n",
    "\n",
    "d = Duck()\n",
    "d.fly()\n",
    "d.swim()\n",
    "d.quack()\n"
   ]
  },
  {
   "cell_type": "code",
   "execution_count": null,
   "id": "16051ab3-d2a3-4ed1-8c3a-72018d8cb4da",
   "metadata": {},
   "outputs": [],
   "source": [
    "#5.) Define class `A` with a method `method_A`, and class `E` with a method `method_E`. Create class `B` inheriting from `A` with a method\n",
    "#`method_B`, and class `C` inheriting from `A` and `E` with a method `method_C`. Define class `D` inheriting from both `B` and `C`\n",
    "#with a method `method_D`. Instantiate a `D` object and call all its methods."
   ]
  },
  {
   "cell_type": "code",
   "execution_count": 47,
   "id": "74080d66-e523-4718-a451-14daebfa753d",
   "metadata": {},
   "outputs": [
    {
     "name": "stdout",
     "output_type": "stream",
     "text": [
      "method_A method_E method_B method_C\n"
     ]
    }
   ],
   "source": [
    "class A:\n",
    "    def method_A(self):\n",
    "        return \"method_A\"\n",
    "\n",
    "class E:\n",
    "    def method_E(self):\n",
    "        return \"method_E\"\n",
    "\n",
    "class B(A):\n",
    "    def method_B(self):\n",
    "        return \"method_B\"\n",
    "\n",
    "class C(A, E):\n",
    "    def method_C(self):\n",
    "        return \"method_C\"\n",
    "\n",
    "class D(B, C):\n",
    "    def method_D(self):\n",
    "       \n",
    "        return self.method_A() + \" \" + self.method_E() + \" \" + self.method_B() + \" \" + self.method_C()\n",
    "\n",
    "\n",
    "d = D()\n",
    "print(d.method_D())\n",
    "\n",
    "\n"
   ]
  },
  {
   "cell_type": "code",
   "execution_count": null,
   "id": "1913c3ba-f8d7-4589-832c-1668ebd5d15b",
   "metadata": {},
   "outputs": [],
   "source": []
  },
  {
   "cell_type": "code",
   "execution_count": null,
   "id": "ce45f3c0-fbf9-4e57-9353-29ee9c33dce7",
   "metadata": {},
   "outputs": [],
   "source": []
  },
  {
   "cell_type": "code",
   "execution_count": null,
   "id": "5ae41246-370b-4663-8983-affad4d15141",
   "metadata": {},
   "outputs": [],
   "source": []
  },
  {
   "cell_type": "code",
   "execution_count": null,
   "id": "27cde414-ae13-442d-9206-891fbbe09e6f",
   "metadata": {},
   "outputs": [],
   "source": []
  }
 ],
 "metadata": {
  "kernelspec": {
   "display_name": "Python 3 (ipykernel)",
   "language": "python",
   "name": "python3"
  },
  "language_info": {
   "codemirror_mode": {
    "name": "ipython",
    "version": 3
   },
   "file_extension": ".py",
   "mimetype": "text/x-python",
   "name": "python",
   "nbconvert_exporter": "python",
   "pygments_lexer": "ipython3",
   "version": "3.13.5"
  }
 },
 "nbformat": 4,
 "nbformat_minor": 5
}

{
 "cells": [
  {
   "cell_type": "code",
   "execution_count": null,
   "id": "00c06899-0653-4ca1-9970-d174037b9dba",
   "metadata": {},
   "outputs": [],
   "source": [
    "# 1) Write a lambda function to calculate the square of a number. Use it to print the square of 8.\n",
    "# 2) Create a lambda function to multiply three arguments. Use it to multiply 3, 4, and 5, then print the result.\n",
    "# 3) Write a lambda function to find the maximum of two numbers. Use it to find the maximum between 10 and 20 and print the result.\n",
    "# 4) Create a list of integers and use a lambda function with the filter method to filter out even numbers. Print the resulting list.\n"
   ]
  },
  {
   "cell_type": "code",
   "execution_count": 3,
   "id": "55649906-a0d7-4f54-b80d-c1e68a7f7b99",
   "metadata": {},
   "outputs": [],
   "source": [
    "a=lambda a:a**2"
   ]
  },
  {
   "cell_type": "code",
   "execution_count": 4,
   "id": "8b9ea77c-39fb-4c0e-a69d-850c9173c098",
   "metadata": {},
   "outputs": [
    {
     "name": "stdout",
     "output_type": "stream",
     "text": [
      "<function <lambda> at 0x0000022006EF8040>\n"
     ]
    }
   ],
   "source": [
    "print(a)"
   ]
  },
  {
   "cell_type": "code",
   "execution_count": 6,
   "id": "02af34a3-4aa7-4c1b-be04-c306212490c5",
   "metadata": {},
   "outputs": [
    {
     "data": {
      "text/plain": [
       "81"
      ]
     },
     "execution_count": 6,
     "metadata": {},
     "output_type": "execute_result"
    }
   ],
   "source": [
    "a(9)"
   ]
  },
  {
   "cell_type": "code",
   "execution_count": 23,
   "id": "9d34868c-5bbc-46cf-9d12-b5092dd32c5e",
   "metadata": {},
   "outputs": [],
   "source": [
    "a=lambda a,b,c:a*b*c"
   ]
  },
  {
   "cell_type": "code",
   "execution_count": 24,
   "id": "a4a26f3f-e60e-4515-843a-7465677311ed",
   "metadata": {},
   "outputs": [
    {
     "data": {
      "text/plain": [
       "60"
      ]
     },
     "execution_count": 24,
     "metadata": {},
     "output_type": "execute_result"
    }
   ],
   "source": [
    "a(3,4,5)"
   ]
  },
  {
   "cell_type": "code",
   "execution_count": null,
   "id": "b1ceb96f-1d03-4375-a8e0-2008e78367d6",
   "metadata": {},
   "outputs": [],
   "source": [
    "a=lambda a*b"
   ]
  },
  {
   "cell_type": "code",
   "execution_count": 26,
   "id": "0aa82143-c2bc-484a-82d9-a62c5d77b8ab",
   "metadata": {},
   "outputs": [],
   "source": [
    "a=lambda a"
   ]
  },
  {
   "cell_type": "code",
   "execution_count": 35,
   "id": "e94997c2-381a-4678-9a8f-2585d11590b0",
   "metadata": {},
   "outputs": [],
   "source": [
    "a=[1,2,3,4,5,6,7,8,9,10]"
   ]
  },
  {
   "cell_type": "code",
   "execution_count": 41,
   "id": "fd3e46ef-8d2c-4a9c-bcc8-f6687f8f4392",
   "metadata": {},
   "outputs": [],
   "source": [
    "number = list(filter(lambda x: x % 2 == 0, a))"
   ]
  },
  {
   "cell_type": "code",
   "execution_count": 42,
   "id": "dd2c703b-0875-4b24-8ef5-2dc3faedf2d2",
   "metadata": {},
   "outputs": [
    {
     "name": "stdout",
     "output_type": "stream",
     "text": [
      "[2, 4, 6, 8, 10]\n"
     ]
    }
   ],
   "source": [
    "print(number)"
   ]
  },
  {
   "cell_type": "code",
   "execution_count": 52,
   "id": "f390d3bc-5d5d-4c57-a793-7fc112bd71c0",
   "metadata": {},
   "outputs": [],
   "source": [
    "# 5) Create a class named Animal with an __init__ method that initializes species and name. Instantiate an object of this class with species \"Dog\" and\n",
    "# name \"Buddy\", then print the species and name.\n",
    "# 6) Create a class named Car with attributes for brand, model, and year. Add a method car_info that prints a formatted string with this information.\n",
    "#Create an instance of the Car class and call the car_info method.\n"
   ]
  },
  {
   "cell_type": "code",
   "execution_count": 51,
   "id": "9750d01e-94fc-44be-b08d-d2ce9c00cd42",
   "metadata": {},
   "outputs": [
    {
     "name": "stdout",
     "output_type": "stream",
     "text": [
      "Dog\n",
      "Buddy\n"
     ]
    }
   ],
   "source": [
    "class animal:\n",
    "    def __init__(self,species,name):\n",
    "        self.species=species\n",
    "        self.name=name\n",
    "\n",
    "p1=animal(\"Dog\",\"Buddy\")\n",
    "print(p1.species)\n",
    "print(p1.name)"
   ]
  },
  {
   "cell_type": "code",
   "execution_count": 66,
   "id": "bfc8a023-2ed0-4584-a860-0c0843eaef87",
   "metadata": {},
   "outputs": [],
   "source": [
    "class car:\n",
    "    def __init__(self,brand,model,year):\n",
    "        self.brand=brand\n",
    "        self.model=model\n",
    "        self.year=year\n",
    "\n",
    "    def car_info(brand,model,year):\n",
    "        return brand,model,year\n",
    "car_info=(\"ford\",\"mustang\",\"2020\")\n",
    "a=car_info"
   ]
  },
  {
   "cell_type": "code",
   "execution_count": 67,
   "id": "3a0feb44-a8b9-403a-931b-67c81ed222bd",
   "metadata": {},
   "outputs": [
    {
     "name": "stdout",
     "output_type": "stream",
     "text": [
      "('ford', 'mustang', '2020')\n"
     ]
    }
   ],
   "source": [
    "print(a)"
   ]
  },
  {
   "cell_type": "code",
   "execution_count": 70,
   "id": "7661b6c9-d6f6-4be8-8d53-219d1eb9ba55",
   "metadata": {},
   "outputs": [],
   "source": [
    "# 7) Create a class named Person with an __init__ method and a method introduce that prints a greeting including the person's name. \n",
    "# Instantiate an object with the name \"Alice\" and call the introduce method.\n",
    "# 8) Create a class named Student with attributes for name and grades (a list of grades). Add a method average_grade that returns the average of the\n",
    "#grades. Create an instance of the Student class, add some grades, and print the average grade.\n"
   ]
  },
  {
   "cell_type": "code",
   "execution_count": 79,
   "id": "aba64a88-f898-43de-9730-9a02bf842ced",
   "metadata": {},
   "outputs": [],
   "source": [
    "class person:\n",
    "    def __init__(self,name,):\n",
    "        self.name=name\n",
    "    def introduce(self):\n",
    "        print(f\"my name is {self.name}.\")\n",
    "        \n",
    "p1=person(\"alish\")"
   ]
  },
  {
   "cell_type": "code",
   "execution_count": 84,
   "id": "2da0b4d1-33c4-408a-9a86-c1a06d37bb05",
   "metadata": {},
   "outputs": [
    {
     "name": "stdout",
     "output_type": "stream",
     "text": [
      "my name is alish.\n"
     ]
    }
   ],
   "source": [
    "p1.introduce()"
   ]
  },
  {
   "cell_type": "code",
   "execution_count": 98,
   "id": "798cef0a-00b9-4739-b316-761088eae4d0",
   "metadata": {},
   "outputs": [
    {
     "name": "stdout",
     "output_type": "stream",
     "text": [
      "Average grade for Shivanshu: 84.66666666666667\n"
     ]
    }
   ],
   "source": [
    "class Student:\n",
    "    def __init__(self, name):\n",
    "        self.name = name\n",
    "        self.grades = 85,90,79\n",
    "    def add_grade(self, grade):\n",
    "        self.grades.append(grade)\n",
    "    def average_grade(self):\n",
    "        if len(self.grades) == 0:\n",
    "            return 0\n",
    "        return sum(self.grades) / len(self.grades)\n",
    "\n",
    "student1 = Student(\"Shivanshu\")\n",
    "print(f\"Average grade for {student1.name}: {student1.average_grade()}\")"
   ]
  },
  {
   "cell_type": "code",
   "execution_count": 99,
   "id": "3b236708-f99b-490e-8fef-9c55715201bf",
   "metadata": {},
   "outputs": [],
   "source": [
    "# 9) Create a class named Book with attributes for title, author, and year_published. Add a method book_age that calculates how old \n",
    "# the book is from the current year. Create an instance of the Book class and print the age of the book.\n"
   ]
  },
  {
   "cell_type": "code",
   "execution_count": 123,
   "id": "6d0cbf31-3417-465c-8bfb-264731960ca3",
   "metadata": {},
   "outputs": [
    {
     "name": "stdout",
     "output_type": "stream",
     "text": [
      "28\n"
     ]
    }
   ],
   "source": [
    "class Book:\n",
    "    def __init__(self,title,author,published_year):\n",
    "        self.title = title\n",
    "        self.author = author\n",
    "        self.published_year = published_year\n",
    "    \n",
    "    def age(self, current_year):\n",
    "        return current_year - self.published_year\n",
    "\n",
    "a = Book(\"Rich Dad Poor Dad\", \"Robert Kiyosaki\", 1997)\n",
    "print(a.age(2025))"
   ]
  },
  {
   "cell_type": "code",
   "execution_count": 124,
   "id": "a68a5d14-4408-4920-a52f-0d110daa2d58",
   "metadata": {},
   "outputs": [],
   "source": [
    "#10) Write a BankAccount class with attributes for owner and balance. Add methods for deposit and withdraw. \n",
    "#Create an instance and perform some deposits and withdrawals, then print the final balance.\n",
    "#11) Create a Calculator class with methods for addition, subtraction, multiplication, and division. Use this class to perform a \n",
    "# series of calculations and print the results."
   ]
  },
  {
   "cell_type": "code",
   "execution_count": 128,
   "id": "5615086d-9847-474a-85f4-7f92baaa9032",
   "metadata": {},
   "outputs": [
    {
     "name": "stdout",
     "output_type": "stream",
     "text": [
      "Final Balance: 1300\n"
     ]
    }
   ],
   "source": [
    "class BankAccount:\n",
    "    def __init__(self, owner, balance=0):\n",
    "        self.owner = owner\n",
    "        self.balance = balance\n",
    "\n",
    "    def deposit(self, amount):\n",
    "        self.balance += amount\n",
    "\n",
    "    def withdraw(self, amount):\n",
    "        self.balance -= amount\n",
    "\n",
    "\n",
    "account1 = BankAccount(\"Shiv\", 1000)\n",
    "\n",
    "account1.deposit(600)    \n",
    "account1.withdraw(300)   \n",
    "print(\"Final Balance:\", account1.balance)\n"
   ]
  },
  {
   "cell_type": "code",
   "execution_count": 153,
   "id": "20135343-4150-482e-aa50-c52a9c20e077",
   "metadata": {},
   "outputs": [
    {
     "data": {
      "text/plain": [
       "4"
      ]
     },
     "execution_count": 153,
     "metadata": {},
     "output_type": "execute_result"
    }
   ],
   "source": [
    "class calculator:\n",
    " \n",
    "    def add(self,num1,num2):\n",
    "        return num1 + num2\n",
    "    \n",
    "    def sub(self,num1,num2):\n",
    "        return num1 - num2\n",
    "    \n",
    "    def multi(self,num1,num2):        \n",
    "        return num1 * num2\n",
    "    \n",
    "    def dev(self,num1,num2):\n",
    "        return num1 / num2\n",
    "        \n",
    "cal=calculator()\n",
    "cal.dev(9,3)\n",
    "cal.add(9,9)\n",
    "cal.multi(9,9)\n",
    "cal.sub(9,5)"
   ]
  },
  {
   "cell_type": "code",
   "execution_count": null,
   "id": "00a959e7-adc6-4d9c-89ff-78a71a22c803",
   "metadata": {},
   "outputs": [],
   "source": []
  }
 ],
 "metadata": {
  "kernelspec": {
   "display_name": "Python 3 (ipykernel)",
   "language": "python",
   "name": "python3"
  },
  "language_info": {
   "codemirror_mode": {
    "name": "ipython",
    "version": 3
   },
   "file_extension": ".py",
   "mimetype": "text/x-python",
   "name": "python",
   "nbconvert_exporter": "python",
   "pygments_lexer": "ipython3",
   "version": "3.13.5"
  }
 },
 "nbformat": 4,
 "nbformat_minor": 5
}

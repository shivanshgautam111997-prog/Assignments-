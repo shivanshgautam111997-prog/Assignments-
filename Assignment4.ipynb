{
 "cells": [
  {
   "cell_type": "code",
   "execution_count": 1,
   "id": "ebd29a02-6e99-4072-8317-6b7aaa329c0b",
   "metadata": {},
   "outputs": [],
   "source": [
    "# Assignment Questions\n",
    "#1) demonstrate the use of the following arithmetic operators in Python on any numbers:\n",
    "#Addition, Subtraction, Multiplication, Division, Modulus, Exponentiation, Floor Division.\n",
    "#2) Write Python expressions using comparison operators (less than, greater than, equal to, not equal to) and evaluate them. Include examples with \n",
    "# both numbers and strings.\n",
    "#3) Create a string variable and use the ' in ' and ' not in ' keywords to check for the presence or absence of a substring within the \n",
    "#string EX : \" Python Is Powerfull language\". & Print the results.\n",
    "#4) Define a list with at least three elements. Use a for loop to print each element of the list.\n",
    "#5) Use the range() function to print numbers from 10 to 1 using a for loop.\n",
    "#6) Create a string variable and demonstrate the following string methods: slicing, negative indexing, converting to uppercase converting to \n",
    "#lowercase, stripping whitespace, replacing a substring, and splitting the string.\n",
    "#7) Create a list inside list with at least five elements of different data types. Print the list.\n",
    "#8) Access and print same item from the list using both positive and negative indexing.\n",
    "#9) Modify elements of a list by using the append(), insert(), remove(), pop(), and del methods. Print the list after each operation.\n",
    "#10) Join two lists and print the all item using for loop and also check is \"data\" present in list using \"if else\" statement. \n",
    "#list_1 = [ 1,2,3,4,\"power\", True] and list_2= [\"one\", \"two\",\"Three\", \"Data\", False]"
   ]
  },
  {
   "cell_type": "code",
   "execution_count": 2,
   "id": "79f173fb-f678-486c-8ada-147ba19046e9",
   "metadata": {},
   "outputs": [],
   "source": [
    "a=2\n",
    "b=3"
   ]
  },
  {
   "cell_type": "code",
   "execution_count": 10,
   "id": "b614241d-253e-4b73-9193-984c9776f14d",
   "metadata": {},
   "outputs": [
    {
     "name": "stdout",
     "output_type": "stream",
     "text": [
      "5\n",
      "-1\n",
      "6\n",
      "0.6666666666666666\n",
      "2\n",
      "8\n",
      "0\n"
     ]
    }
   ],
   "source": [
    "print(a+b)\n",
    "print(a-b)\n",
    "print(a*b)\n",
    "print(a/b)\n",
    "print(a%b)\n",
    "print(a**b)\n",
    "print(a//b)"
   ]
  },
  {
   "cell_type": "code",
   "execution_count": 2,
   "id": "2c1c8cd6-f3b4-4755-8250-cecadac4edaf",
   "metadata": {},
   "outputs": [
    {
     "data": {
      "text/plain": [
       "False"
      ]
     },
     "execution_count": 2,
     "metadata": {},
     "output_type": "execute_result"
    }
   ],
   "source": [
    "2>3"
   ]
  },
  {
   "cell_type": "code",
   "execution_count": 5,
   "id": "c9d84b13-ef16-4b4c-9f71-59a3e26b7679",
   "metadata": {},
   "outputs": [
    {
     "data": {
      "text/plain": [
       "False"
      ]
     },
     "execution_count": 5,
     "metadata": {},
     "output_type": "execute_result"
    }
   ],
   "source": [
    "3 < 2"
   ]
  },
  {
   "cell_type": "code",
   "execution_count": 4,
   "id": "54277dce-af1d-4945-86e9-3dedd9d7c48b",
   "metadata": {},
   "outputs": [
    {
     "data": {
      "text/plain": [
       "False"
      ]
     },
     "execution_count": 4,
     "metadata": {},
     "output_type": "execute_result"
    }
   ],
   "source": [
    "3==2"
   ]
  },
  {
   "cell_type": "code",
   "execution_count": 6,
   "id": "8c988efd-4359-44b5-84c5-5e719c327aeb",
   "metadata": {},
   "outputs": [
    {
     "data": {
      "text/plain": [
       "True"
      ]
     },
     "execution_count": 6,
     "metadata": {},
     "output_type": "execute_result"
    }
   ],
   "source": [
    "3!=4"
   ]
  },
  {
   "cell_type": "code",
   "execution_count": 11,
   "id": "57237121-ff07-433c-9a9c-1c50c70db93a",
   "metadata": {},
   "outputs": [],
   "source": [
    "a=\"shiv\"\n",
    "b=\"gautam\""
   ]
  },
  {
   "cell_type": "code",
   "execution_count": 12,
   "id": "8fe77325-54d6-41db-89c0-79f8c9423421",
   "metadata": {},
   "outputs": [
    {
     "data": {
      "text/plain": [
       "True"
      ]
     },
     "execution_count": 12,
     "metadata": {},
     "output_type": "execute_result"
    }
   ],
   "source": [
    "a>b"
   ]
  },
  {
   "cell_type": "code",
   "execution_count": 13,
   "id": "7bc8f7ee-3f48-4505-9e6f-7c1924f7ccb2",
   "metadata": {},
   "outputs": [
    {
     "data": {
      "text/plain": [
       "True"
      ]
     },
     "execution_count": 13,
     "metadata": {},
     "output_type": "execute_result"
    }
   ],
   "source": [
    "b<a"
   ]
  },
  {
   "cell_type": "code",
   "execution_count": 14,
   "id": "e60b217d-a422-47db-b89a-044a91f8c4c0",
   "metadata": {},
   "outputs": [
    {
     "data": {
      "text/plain": [
       "False"
      ]
     },
     "execution_count": 14,
     "metadata": {},
     "output_type": "execute_result"
    }
   ],
   "source": [
    "b>a"
   ]
  },
  {
   "cell_type": "code",
   "execution_count": 15,
   "id": "19a9f998-477d-4fb7-8917-d6037adb050a",
   "metadata": {},
   "outputs": [
    {
     "data": {
      "text/plain": [
       "True"
      ]
     },
     "execution_count": 15,
     "metadata": {},
     "output_type": "execute_result"
    }
   ],
   "source": [
    "a!=b"
   ]
  },
  {
   "cell_type": "code",
   "execution_count": 29,
   "id": "b5e20789-eb71-476a-975a-8293cf4797b2",
   "metadata": {},
   "outputs": [],
   "source": [
    "ex=\"python Is Powerfull language\""
   ]
  },
  {
   "cell_type": "code",
   "execution_count": 30,
   "id": "8671e1ca-8f33-4521-9134-5b6ca66d82b2",
   "metadata": {},
   "outputs": [
    {
     "name": "stdout",
     "output_type": "stream",
     "text": [
      "True\n"
     ]
    }
   ],
   "source": [
    "print (\"python\" in ex)"
   ]
  },
  {
   "cell_type": "code",
   "execution_count": 31,
   "id": "51494fff-fdd8-44ff-8fc0-cfe0ea1ab20c",
   "metadata": {},
   "outputs": [
    {
     "name": "stdout",
     "output_type": "stream",
     "text": [
      "False\n"
     ]
    }
   ],
   "source": [
    "print (\"language\" not in ex)"
   ]
  },
  {
   "cell_type": "code",
   "execution_count": 35,
   "id": "c9cfb56c-4f6c-4af9-8102-397368cfa1f6",
   "metadata": {},
   "outputs": [],
   "source": [
    "a=[1,2,3,4,5]"
   ]
  },
  {
   "cell_type": "code",
   "execution_count": 34,
   "id": "e23623b5-ed84-4d1e-bd1b-4b54b8980d3d",
   "metadata": {},
   "outputs": [
    {
     "name": "stdout",
     "output_type": "stream",
     "text": [
      "1,2,3,4,5\n"
     ]
    }
   ],
   "source": [
    "print(a)"
   ]
  },
  {
   "cell_type": "code",
   "execution_count": 36,
   "id": "fff25257-a10f-4cd8-b17b-3bdd5b9c8dae",
   "metadata": {},
   "outputs": [
    {
     "name": "stdout",
     "output_type": "stream",
     "text": [
      "1\n",
      "2\n",
      "3\n",
      "4\n",
      "5\n"
     ]
    }
   ],
   "source": [
    "for i in a:\n",
    "    print(i)"
   ]
  },
  {
   "cell_type": "code",
   "execution_count": 37,
   "id": "a8a1ecbb-6eaf-43bc-bb60-421054195796",
   "metadata": {},
   "outputs": [
    {
     "data": {
      "text/plain": [
       "range(0, 10)"
      ]
     },
     "execution_count": 37,
     "metadata": {},
     "output_type": "execute_result"
    }
   ],
   "source": [
    "range(10)"
   ]
  },
  {
   "cell_type": "code",
   "execution_count": 51,
   "id": "65016586-3230-400e-97cc-b5ded8556480",
   "metadata": {},
   "outputs": [
    {
     "name": "stdout",
     "output_type": "stream",
     "text": [
      "0\n",
      "1\n",
      "2\n",
      "3\n",
      "4\n",
      "5\n",
      "6\n",
      "7\n",
      "8\n",
      "9\n",
      "10\n"
     ]
    }
   ],
   "source": [
    "for i in range(11):\n",
    "    print (i)"
   ]
  },
  {
   "cell_type": "code",
   "execution_count": 54,
   "id": "f07256f8-39b8-4f67-b1f7-dfcc5e10102d",
   "metadata": {},
   "outputs": [],
   "source": [
    "#  Create a string variable and demonstrate the following string methods: slicing, negative indexing, converting to uppercase converting to \n",
    "#lowercase, stripping whitespace, replacing a substring, and splitting the string."
   ]
  },
  {
   "cell_type": "code",
   "execution_count": 53,
   "id": "2eaf8d25-e9f0-4c0e-a6ea-79b2984400d3",
   "metadata": {},
   "outputs": [],
   "source": [
    "a=\"shivansh\""
   ]
  },
  {
   "cell_type": "code",
   "execution_count": 55,
   "id": "fd2489f8-1ec5-4512-a08e-71c3b5e36e97",
   "metadata": {},
   "outputs": [
    {
     "data": {
      "text/plain": [
       "'SHIVANSH'"
      ]
     },
     "execution_count": 55,
     "metadata": {},
     "output_type": "execute_result"
    }
   ],
   "source": [
    "a.upper()"
   ]
  },
  {
   "cell_type": "code",
   "execution_count": 57,
   "id": "627e980c-8f48-435e-b92b-b5093b266acd",
   "metadata": {},
   "outputs": [
    {
     "data": {
      "text/plain": [
       "'shivansh'"
      ]
     },
     "execution_count": 57,
     "metadata": {},
     "output_type": "execute_result"
    }
   ],
   "source": [
    "a.lower()"
   ]
  },
  {
   "cell_type": "code",
   "execution_count": 64,
   "id": "e4c9f76f-ff07-4d43-a18d-8f5bb4b4330e",
   "metadata": {},
   "outputs": [
    {
     "name": "stdout",
     "output_type": "stream",
     "text": [
      "shiv\n"
     ]
    }
   ],
   "source": [
    "print (a[0:-4])"
   ]
  },
  {
   "cell_type": "code",
   "execution_count": 66,
   "id": "2c5816ce-0598-4aae-b7e0-02679b8827df",
   "metadata": {},
   "outputs": [
    {
     "name": "stdout",
     "output_type": "stream",
     "text": [
      "hiv\n"
     ]
    }
   ],
   "source": [
    "print (a[1:4])"
   ]
  },
  {
   "cell_type": "code",
   "execution_count": 67,
   "id": "51628d53-9cfc-4dc8-8939-e7d52b390ebc",
   "metadata": {},
   "outputs": [],
   "source": [
    "b=\"   shivanshu   \""
   ]
  },
  {
   "cell_type": "code",
   "execution_count": 68,
   "id": "e8a8a406-511e-4551-827a-f575d530d984",
   "metadata": {},
   "outputs": [
    {
     "name": "stdout",
     "output_type": "stream",
     "text": [
      "   shivanshu   \n"
     ]
    }
   ],
   "source": [
    "print(b)"
   ]
  },
  {
   "cell_type": "code",
   "execution_count": 70,
   "id": "ed248926-d783-48e0-9b17-5a3ef2f9ac2d",
   "metadata": {},
   "outputs": [
    {
     "name": "stdout",
     "output_type": "stream",
     "text": [
      "shivansh\n"
     ]
    }
   ],
   "source": [
    "print (a.strip())"
   ]
  },
  {
   "cell_type": "code",
   "execution_count": 100,
   "id": "e1ec6cf1-c583-4d66-bcea-a5bcca91b1bf",
   "metadata": {},
   "outputs": [
    {
     "name": "stdout",
     "output_type": "stream",
     "text": [
      "shivanshu,mehra!\n"
     ]
    }
   ],
   "source": [
    "b = \"shivanshu,gautam!\"\n",
    "print(b.replace(\"gautam\",\"mehra\"))"
   ]
  },
  {
   "cell_type": "code",
   "execution_count": 103,
   "id": "f462f295-8f7d-4d20-974a-4cd8441a1e32",
   "metadata": {},
   "outputs": [
    {
     "name": "stdout",
     "output_type": "stream",
     "text": [
      "['shivanshu', 'gautam!']\n"
     ]
    }
   ],
   "source": [
    "print(b.split(\",\"))"
   ]
  },
  {
   "cell_type": "code",
   "execution_count": 107,
   "id": "e4f83d4c-623f-42a1-93b7-a67355e60d09",
   "metadata": {},
   "outputs": [],
   "source": [
    "area=[\"kanpur\",\"kidwai nagar\",\"shyam nahar\",[\"harsh nagar\",\"24\"],\"unnao\",\"26\"]"
   ]
  },
  {
   "cell_type": "code",
   "execution_count": 108,
   "id": "8b1b6975-c326-4016-bebd-ba6a03d00c3f",
   "metadata": {},
   "outputs": [
    {
     "name": "stdout",
     "output_type": "stream",
     "text": [
      "['kanpur', 'kidwai nagar', 'shyam nahar', ['harsh nagar', '24'], 'unnao', '26']\n"
     ]
    }
   ],
   "source": [
    "print(area)"
   ]
  },
  {
   "cell_type": "code",
   "execution_count": 109,
   "id": "2394d74f-f78a-4e6f-878d-dd179da0c47d",
   "metadata": {},
   "outputs": [
    {
     "data": {
      "text/plain": [
       "list"
      ]
     },
     "execution_count": 109,
     "metadata": {},
     "output_type": "execute_result"
    }
   ],
   "source": [
    "type(area)"
   ]
  },
  {
   "cell_type": "code",
   "execution_count": 110,
   "id": "ba81a315-964d-4850-8bfc-73e2dcabaa87",
   "metadata": {},
   "outputs": [
    {
     "name": "stdout",
     "output_type": "stream",
     "text": [
      "['shyam nahar', ['harsh nagar', '24']]\n"
     ]
    }
   ],
   "source": [
    "print (area[+2:+4])"
   ]
  },
  {
   "cell_type": "code",
   "execution_count": 117,
   "id": "5367ce87-2731-4a5d-aff0-0f4b10b6e0a3",
   "metadata": {},
   "outputs": [
    {
     "name": "stdout",
     "output_type": "stream",
     "text": [
      "['kanpur', 'kidwai nagar']\n"
     ]
    }
   ],
   "source": [
    "print (area[0:-4])"
   ]
  },
  {
   "cell_type": "code",
   "execution_count": 118,
   "id": "2d8b11be-dece-4b29-b9fd-59ac6131220f",
   "metadata": {},
   "outputs": [],
   "source": [
    "#9) Modify elements of a list by using the append(), insert(), remove(), pop(), and del methods. Print the list after each operation.\n",
    "#10) Join two lists and print the all item using for loop and also check is \"data\" present in list using \"if else\" statement. \n",
    "#list_1 = [ 1,2,3,4,\"power\", True] and list_2= [\"one\", \"two\",\"Three\", \"Data\", False]"
   ]
  },
  {
   "cell_type": "code",
   "execution_count": 132,
   "id": "65728856-cfac-4c1d-b148-b80b9bd7476a",
   "metadata": {},
   "outputs": [],
   "source": [
    "area=[\"kanpur\",\"kidwai nagar\",\"shyam nahar\",\"unnao\",\"26\"]"
   ]
  },
  {
   "cell_type": "code",
   "execution_count": 133,
   "id": "598cd794-58ac-492d-8fc3-ccf373ed3dbd",
   "metadata": {},
   "outputs": [],
   "source": [
    "area.append(\"geeta nagar\")"
   ]
  },
  {
   "cell_type": "code",
   "execution_count": 134,
   "id": "6038df03-77d6-4836-8880-6cbb263c0942",
   "metadata": {},
   "outputs": [
    {
     "name": "stdout",
     "output_type": "stream",
     "text": [
      "['kanpur', 'kidwai nagar', 'shyam nahar', 'unnao', '26', 'geeta nagar']\n"
     ]
    }
   ],
   "source": [
    "print(area)"
   ]
  },
  {
   "cell_type": "code",
   "execution_count": 135,
   "id": "0eae9a3b-67a1-4bbb-8a5c-d134ab68d118",
   "metadata": {},
   "outputs": [],
   "source": [
    "area.insert(1,\"geeta nagar\")"
   ]
  },
  {
   "cell_type": "code",
   "execution_count": 136,
   "id": "77407da8-c62a-45c4-96d7-a8259dec79a8",
   "metadata": {},
   "outputs": [
    {
     "name": "stdout",
     "output_type": "stream",
     "text": [
      "['kanpur', 'geeta nagar', 'kidwai nagar', 'shyam nahar', 'unnao', '26', 'geeta nagar']\n"
     ]
    }
   ],
   "source": [
    "print(area)"
   ]
  },
  {
   "cell_type": "code",
   "execution_count": 138,
   "id": "dc7a4da3-0f52-41a8-8df7-1429ac49e19c",
   "metadata": {},
   "outputs": [],
   "source": [
    "area.remove(\"geeta nagar\")"
   ]
  },
  {
   "cell_type": "code",
   "execution_count": 139,
   "id": "662aa971-ed16-4a61-8f07-23a05436955a",
   "metadata": {},
   "outputs": [
    {
     "name": "stdout",
     "output_type": "stream",
     "text": [
      "['kanpur', 'kidwai nagar', 'shyam nahar', 'unnao', '26', 'geeta nagar']\n"
     ]
    }
   ],
   "source": [
    "print(area)"
   ]
  },
  {
   "cell_type": "code",
   "execution_count": 140,
   "id": "435436d9-16b2-4ed4-8291-d24657add956",
   "metadata": {},
   "outputs": [
    {
     "data": {
      "text/plain": [
       "'geeta nagar'"
      ]
     },
     "execution_count": 140,
     "metadata": {},
     "output_type": "execute_result"
    }
   ],
   "source": [
    "area.pop()"
   ]
  },
  {
   "cell_type": "code",
   "execution_count": 141,
   "id": "5a9424d7-361f-4253-820b-830ed400683e",
   "metadata": {},
   "outputs": [
    {
     "name": "stdout",
     "output_type": "stream",
     "text": [
      "['kanpur', 'kidwai nagar', 'shyam nahar', 'unnao', '26']\n"
     ]
    }
   ],
   "source": [
    "print(area)"
   ]
  },
  {
   "cell_type": "code",
   "execution_count": 144,
   "id": "434e6b80-5166-4694-a361-3596fd5cafc8",
   "metadata": {},
   "outputs": [],
   "source": [
    "del area"
   ]
  },
  {
   "cell_type": "code",
   "execution_count": null,
   "id": "55435d4e-3190-43e5-938d-c6b17d6ca61a",
   "metadata": {},
   "outputs": [],
   "source": [
    "print(area)"
   ]
  },
  {
   "cell_type": "code",
   "execution_count": 146,
   "id": "6948c306-fde9-4ab0-ac4d-37db934a816c",
   "metadata": {},
   "outputs": [],
   "source": [
    "#10) Join two lists and print the all item using for loop and also check is \"data\" present in list using \"if else\" statement. \n",
    "#list_1 = [ 1,2,3,4,\"power\", True] and list_2= [\"one\", \"two\",\"Three\", \"Data\", False]"
   ]
  },
  {
   "cell_type": "code",
   "execution_count": 152,
   "id": "1d47046b-5ba5-4a7d-bc81-7b9034e62da6",
   "metadata": {},
   "outputs": [],
   "source": [
    "list_1 = [1,2,3,4,\"power\",True]"
   ]
  },
  {
   "cell_type": "code",
   "execution_count": 154,
   "id": "ff28eec0-055a-4e59-b17e-bd9384514b8d",
   "metadata": {},
   "outputs": [],
   "source": [
    "list_2 = [\"one\",\"two\",\"three\",\"data\",False]"
   ]
  },
  {
   "cell_type": "code",
   "execution_count": 155,
   "id": "b26f3af7-bd04-444b-8ff2-2b3c4880cd88",
   "metadata": {},
   "outputs": [
    {
     "name": "stdout",
     "output_type": "stream",
     "text": [
      "[1, 2, 3, 4, 'power', True, 'one', 'two', 'three', 'data', False]\n"
     ]
    }
   ],
   "source": [
    "print(list_1+list_2)"
   ]
  },
  {
   "cell_type": "code",
   "execution_count": 156,
   "id": "28a03395-5e7b-40ba-80a9-129f1f0aa162",
   "metadata": {},
   "outputs": [
    {
     "name": "stdout",
     "output_type": "stream",
     "text": [
      "1\n",
      "2\n",
      "3\n",
      "4\n",
      "power\n",
      "True\n",
      "one\n",
      "two\n",
      "three\n",
      "data\n",
      "False\n"
     ]
    }
   ],
   "source": [
    "for i in list_1+list_2:\n",
    "    print(i)"
   ]
  },
  {
   "cell_type": "code",
   "execution_count": 159,
   "id": "b487d251-6ee9-4e84-93f2-9b945fa1b0cf",
   "metadata": {},
   "outputs": [
    {
     "name": "stdout",
     "output_type": "stream",
     "text": [
      "yes it is present\n"
     ]
    }
   ],
   "source": [
    "if \"data\" in list_1+list_2:\n",
    "    print (\"yes it is present\")\n",
    "else:\n",
    "    print (\"it is not present\")"
   ]
  }
 ],
 "metadata": {
  "kernelspec": {
   "display_name": "Python 3 (ipykernel)",
   "language": "python",
   "name": "python3"
  },
  "language_info": {
   "codemirror_mode": {
    "name": "ipython",
    "version": 3
   },
   "file_extension": ".py",
   "mimetype": "text/x-python",
   "name": "python",
   "nbconvert_exporter": "python",
   "pygments_lexer": "ipython3",
   "version": "3.13.5"
  }
 },
 "nbformat": 4,
 "nbformat_minor": 5
}

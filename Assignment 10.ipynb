{
 "cells": [
  {
   "cell_type": "code",
   "execution_count": null,
   "id": "8a4cc087-1f64-4928-b8ee-4742cffad785",
   "metadata": {},
   "outputs": [],
   "source": [
    "#1. Date Module Operations\n",
    "#      1. Display the current date and time.\n",
    "#     2. Create a date object for `July 4, 2022`, and print it.\n",
    "#     3. Extract and display the name of the month from the date object `December 15, 2021`.\n"
   ]
  },
  {
   "cell_type": "code",
   "execution_count": 1,
   "id": "0a99c9d5-e254-4b96-90f9-e3f837b87af0",
   "metadata": {},
   "outputs": [],
   "source": [
    "import datetime"
   ]
  },
  {
   "cell_type": "code",
   "execution_count": 6,
   "id": "0064207c-2e00-42f7-a2e5-ab88f9d3d691",
   "metadata": {},
   "outputs": [
    {
     "data": {
      "text/plain": [
       "datetime.datetime(2025, 9, 23, 21, 6, 21, 152624)"
      ]
     },
     "execution_count": 6,
     "metadata": {},
     "output_type": "execute_result"
    }
   ],
   "source": [
    "datetime.datetime.now()"
   ]
  },
  {
   "cell_type": "code",
   "execution_count": 8,
   "id": "fa8ebe93-b5d6-4c20-bf00-f249f5de6703",
   "metadata": {},
   "outputs": [],
   "source": [
    "a=datetime.datetime(2022,7,4)"
   ]
  },
  {
   "cell_type": "code",
   "execution_count": 9,
   "id": "2bd87233-ae82-4635-bb73-70df87af9c3b",
   "metadata": {},
   "outputs": [
    {
     "name": "stdout",
     "output_type": "stream",
     "text": [
      "2022-07-04 00:00:00\n"
     ]
    }
   ],
   "source": [
    "print(a)"
   ]
  },
  {
   "cell_type": "code",
   "execution_count": 22,
   "id": "feaf6d5b-473d-47a0-9a62-80820d638c81",
   "metadata": {},
   "outputs": [
    {
     "name": "stdout",
     "output_type": "stream",
     "text": [
      "December\n"
     ]
    }
   ],
   "source": [
    "import datetime\n",
    "\n",
    "a = datetime.datetime(2021,12,15)\n",
    "\n",
    "print(a.strftime(\"%B\"))"
   ]
  },
  {
   "cell_type": "code",
   "execution_count": null,
   "id": "089e310f-75b6-41ea-afe5-e8ae8f3c2fb9",
   "metadata": {},
   "outputs": [],
   "source": [
    "# 2. Mathematical Calculations with `math` Module\n",
    "#  - Use the `math` module to:\n",
    "#      1. Compute and print the square root of `81`.\n",
    "#      2. Find and display the ceiling and floor values of `8.3`.\n",
    "#      3. Calculate and print `2` raised to the power of `5`.\n",
    "#      4. Print the value of π (pi) from the `math` module."
   ]
  },
  {
   "cell_type": "code",
   "execution_count": 34,
   "id": "40ae2456-b14b-448f-8113-190d8b529b72",
   "metadata": {},
   "outputs": [],
   "source": [
    "import math"
   ]
  },
  {
   "cell_type": "code",
   "execution_count": 35,
   "id": "85216773-56b8-4332-b4c1-6ece86aa9ca2",
   "metadata": {},
   "outputs": [],
   "source": [
    "x=math.sqrt(81)"
   ]
  },
  {
   "cell_type": "code",
   "execution_count": 36,
   "id": "3535b96f-bc2b-43e1-ad28-ca4c6bfa6a28",
   "metadata": {},
   "outputs": [
    {
     "name": "stdout",
     "output_type": "stream",
     "text": [
      "9.0\n"
     ]
    }
   ],
   "source": [
    "print(x)"
   ]
  },
  {
   "cell_type": "code",
   "execution_count": 43,
   "id": "043ac106-1267-44fa-b14d-2cdf91fcefeb",
   "metadata": {},
   "outputs": [],
   "source": [
    "import math\n",
    "\n",
    "a=math.ceil(8.3)\n",
    "b=math.floor(8.3)\n"
   ]
  },
  {
   "cell_type": "code",
   "execution_count": 44,
   "id": "d2c8fc54-4980-4c2c-aa08-a723499bec76",
   "metadata": {},
   "outputs": [
    {
     "name": "stdout",
     "output_type": "stream",
     "text": [
      "9\n",
      "8\n"
     ]
    }
   ],
   "source": [
    "print(a)\n",
    "print(b)"
   ]
  },
  {
   "cell_type": "code",
   "execution_count": 46,
   "id": "838f7946-f0b1-4c8f-9bd5-4c3ef5c42545",
   "metadata": {},
   "outputs": [
    {
     "data": {
      "text/plain": [
       "3.141592653589793"
      ]
     },
     "execution_count": 46,
     "metadata": {},
     "output_type": "execute_result"
    }
   ],
   "source": [
    "import math\n",
    "math.pi"
   ]
  },
  {
   "cell_type": "code",
   "execution_count": 49,
   "id": "c30303f4-99e3-44a2-a780-fd76347f1f7a",
   "metadata": {},
   "outputs": [],
   "source": [
    "import math\n",
    "a=math.pow(2,5)"
   ]
  },
  {
   "cell_type": "code",
   "execution_count": 50,
   "id": "81b2372d-fd08-4edf-9541-5558ac6a91ac",
   "metadata": {},
   "outputs": [
    {
     "name": "stdout",
     "output_type": "stream",
     "text": [
      "32.0\n"
     ]
    }
   ],
   "source": [
    "print(a)"
   ]
  },
  {
   "cell_type": "code",
   "execution_count": 29,
   "id": "a3b6993e-45a8-424b-b45d-5116e189f238",
   "metadata": {},
   "outputs": [],
   "source": [
    "# 3. Polymorphism in Built-in and Custom Classes\n",
    "#    - Demonstrate polymorphism by:\n",
    "#      1. Using the `len()` function on a string (`\"Python\"`), a tuple (`(1, 2, 3)`), and a dictionary (`{\"name\": \"John\", \"age\": 30}`) \n",
    "# and print their lengths.\n"
   ]
  },
  {
   "cell_type": "code",
   "execution_count": 57,
   "id": "077232c3-05cc-4035-aeeb-31b081417146",
   "metadata": {},
   "outputs": [
    {
     "name": "stdout",
     "output_type": "stream",
     "text": [
      "python\n"
     ]
    },
    {
     "data": {
      "text/plain": [
       "str"
      ]
     },
     "execution_count": 57,
     "metadata": {},
     "output_type": "execute_result"
    }
   ],
   "source": [
    "a=\"python\"\n",
    "print(a)\n",
    "type(a)"
   ]
  },
  {
   "cell_type": "code",
   "execution_count": 58,
   "id": "e8a2f15c-d5da-428d-b9f9-2ce82ed609c0",
   "metadata": {},
   "outputs": [
    {
     "data": {
      "text/plain": [
       "6"
      ]
     },
     "execution_count": 58,
     "metadata": {},
     "output_type": "execute_result"
    }
   ],
   "source": [
    "len(a)"
   ]
  },
  {
   "cell_type": "code",
   "execution_count": 59,
   "id": "234ce135-ce24-40e3-be28-b1b091db491a",
   "metadata": {},
   "outputs": [
    {
     "name": "stdout",
     "output_type": "stream",
     "text": [
      "(1, 2, 3)\n"
     ]
    },
    {
     "data": {
      "text/plain": [
       "tuple"
      ]
     },
     "execution_count": 59,
     "metadata": {},
     "output_type": "execute_result"
    }
   ],
   "source": [
    "a=(1,2,3)\n",
    "print(a)\n",
    "type(a)"
   ]
  },
  {
   "cell_type": "code",
   "execution_count": 60,
   "id": "54f3376e-8420-462e-b568-ba6e444b1573",
   "metadata": {},
   "outputs": [
    {
     "data": {
      "text/plain": [
       "3"
      ]
     },
     "execution_count": 60,
     "metadata": {},
     "output_type": "execute_result"
    }
   ],
   "source": [
    "len(a)"
   ]
  },
  {
   "cell_type": "code",
   "execution_count": 61,
   "id": "e0eb802a-865c-4a2d-b15b-6f94bc9d39f9",
   "metadata": {},
   "outputs": [
    {
     "name": "stdout",
     "output_type": "stream",
     "text": [
      "{'name': 'john', 'age': 30}\n"
     ]
    },
    {
     "data": {
      "text/plain": [
       "dict"
      ]
     },
     "execution_count": 61,
     "metadata": {},
     "output_type": "execute_result"
    }
   ],
   "source": [
    "dic={\"name\":\"john\",\"age\":30}\n",
    "print(dic)\n",
    "type(dic)"
   ]
  },
  {
   "cell_type": "code",
   "execution_count": 62,
   "id": "786c1c2f-4c0d-44b8-ae20-15496f959855",
   "metadata": {},
   "outputs": [
    {
     "data": {
      "text/plain": [
       "2"
      ]
     },
     "execution_count": 62,
     "metadata": {},
     "output_type": "execute_result"
    }
   ],
   "source": [
    "len(dic)"
   ]
  },
  {
   "cell_type": "code",
   "execution_count": 63,
   "id": "bee98e65-78ef-4c10-b75a-d20622314926",
   "metadata": {},
   "outputs": [],
   "source": [
    "#      2. Define three classes: `Dog`, `Cat`, and `Bird`. Each class should have a `speak` method that prints a unique sound.\n",
    "#Create an instance of each class and use a loop to call their `speak` methods.\n"
   ]
  },
  {
   "cell_type": "code",
   "execution_count": null,
   "id": "a06f52ca-72bf-472c-910a-3dfa87e02292",
   "metadata": {},
   "outputs": [],
   "source": [
    "class Animal:\n",
    "    def __init__(self,name):\n",
    "        self.name=name\n",
    "    def speak(self):\n",
    "        print(\"brak\",\"me\",\"chi-chi\")\n",
    "        \n",
    "\n",
    "    def"
   ]
  },
  {
   "cell_type": "code",
   "execution_count": null,
   "id": "7a29c377-7aba-48e6-865e-2aac6852d504",
   "metadata": {},
   "outputs": [],
   "source": []
  },
  {
   "cell_type": "code",
   "execution_count": null,
   "id": "35bb9cf1-7193-4ef2-ad1b-80eb2ab6977a",
   "metadata": {},
   "outputs": [],
   "source": []
  },
  {
   "cell_type": "code",
   "execution_count": null,
   "id": "20a04dcd-3f4e-4217-8683-1af1941be7de",
   "metadata": {},
   "outputs": [],
   "source": []
  },
  {
   "cell_type": "code",
   "execution_count": null,
   "id": "fef8d6a3-74c4-45fa-997b-b45690ceeaec",
   "metadata": {},
   "outputs": [],
   "source": [
    "# 4. File Handling: Creation, Reading, and Appending\n",
    "#     1. Create a file named `notes.txt` and write `\"First Line\"` into it.\n",
    "#      2. Open `notes.txt` and read its contents. Print the content to the console.\n",
    "#      3. Append `\"Second Line\"` to `notes.txt`.\n",
    "#      4. Open and read the updated contents of `notes.txt`, and print the results."
   ]
  },
  {
   "cell_type": "code",
   "execution_count": 67,
   "id": "d13f4904-17ae-45e9-97f9-b930ad489fe6",
   "metadata": {},
   "outputs": [],
   "source": [
    "f=open(\"notes.txt\")"
   ]
  },
  {
   "cell_type": "code",
   "execution_count": 70,
   "id": "8a821d5b-949e-4a79-be3f-65f363e2db75",
   "metadata": {},
   "outputs": [],
   "source": [
    "f.close()"
   ]
  },
  {
   "cell_type": "code",
   "execution_count": 76,
   "id": "187d4741-b002-4f0a-94d2-ef1c802865b3",
   "metadata": {},
   "outputs": [],
   "source": [
    "f=open(\"notes.txt\",\"w\")\n",
    "(f.write(\"First Line\"))\n",
    "f.close()"
   ]
  },
  {
   "cell_type": "code",
   "execution_count": 78,
   "id": "7c8c9592-f4f7-4c33-bc4f-1601a26e644d",
   "metadata": {},
   "outputs": [
    {
     "name": "stdout",
     "output_type": "stream",
     "text": [
      "First Line\n"
     ]
    }
   ],
   "source": [
    "f=open(\"notes.txt\",\"r\")\n",
    "print(f.read())\n",
    "f.close()"
   ]
  },
  {
   "cell_type": "code",
   "execution_count": 83,
   "id": "ce0525bd-22ef-42de-8d03-8fcd4038290d",
   "metadata": {},
   "outputs": [],
   "source": [
    "f=open(\"notes.txt\",\"a\")\n",
    "(f.write(\"Second Line\"))\n",
    "f.close()"
   ]
  },
  {
   "cell_type": "code",
   "execution_count": 86,
   "id": "9e1ded55-5a6b-4302-bcb2-304ef3523126",
   "metadata": {},
   "outputs": [
    {
     "name": "stdout",
     "output_type": "stream",
     "text": [
      "First LineSecond Line\n"
     ]
    }
   ],
   "source": [
    "f=open(\"notes.txt\",\"r\")\n",
    "print(f.read())\n",
    "f.close()"
   ]
  },
  {
   "cell_type": "code",
   "execution_count": 28,
   "id": "b97ea707-9368-4df3-88cd-5f5d9050240a",
   "metadata": {},
   "outputs": [],
   "source": [
    "# 5. File Handling: Checking Existence and Deleting\n",
    "#      1. Check if a file named `testfile.txt` exists in the current directory. If it does, delete the file and print `\"File deleted.\"`.\n",
    "#      2. If `testfile.txt` does not exist, print `\"File does not exist.\"`."
   ]
  },
  {
   "cell_type": "code",
   "execution_count": 92,
   "id": "54dd63dc-1f0b-4238-ad1f-7a4028c897ec",
   "metadata": {},
   "outputs": [
    {
     "ename": "FileNotFoundError",
     "evalue": "[WinError 2] The system cannot find the file specified: 'testfile.txt'",
     "output_type": "error",
     "traceback": [
      "\u001b[1;31m---------------------------------------------------------------------------\u001b[0m",
      "\u001b[1;31mFileNotFoundError\u001b[0m                         Traceback (most recent call last)",
      "Cell \u001b[1;32mIn[92], line 2\u001b[0m\n\u001b[0;32m      1\u001b[0m \u001b[38;5;28;01mimport\u001b[39;00m\u001b[38;5;250m \u001b[39m\u001b[38;5;21;01mos\u001b[39;00m\n\u001b[1;32m----> 2\u001b[0m os\u001b[38;5;241m.\u001b[39mremove(\u001b[38;5;124m\"\u001b[39m\u001b[38;5;124mtestfile.txt\u001b[39m\u001b[38;5;124m\"\u001b[39m)\n",
      "\u001b[1;31mFileNotFoundError\u001b[0m: [WinError 2] The system cannot find the file specified: 'testfile.txt'"
     ]
    }
   ],
   "source": [
    "import os\n",
    "os.remove(\"testfile.txt\")"
   ]
  },
  {
   "cell_type": "code",
   "execution_count": 93,
   "id": "0e49a964-d49f-453d-8b41-382ac13c629a",
   "metadata": {},
   "outputs": [
    {
     "name": "stdout",
     "output_type": "stream",
     "text": [
      "file does not exist\n"
     ]
    }
   ],
   "source": [
    "import os\n",
    "if os.path.exists(\"testfile.txt\"):\n",
    "    os.remove(\"testfile.txt\")\n",
    "else:\n",
    "    print (\"file does not exist\")"
   ]
  },
  {
   "cell_type": "code",
   "execution_count": null,
   "id": "e44a3894-012e-4d11-ab30-a12e2032fdf4",
   "metadata": {},
   "outputs": [],
   "source": []
  },
  {
   "cell_type": "code",
   "execution_count": null,
   "id": "62e42478-2f86-4715-86c2-cdd4bfa49bab",
   "metadata": {},
   "outputs": [],
   "source": []
  },
  {
   "cell_type": "code",
   "execution_count": null,
   "id": "00ce336d-4fa5-46ac-a7e4-c57220c55bb7",
   "metadata": {},
   "outputs": [],
   "source": []
  }
 ],
 "metadata": {
  "kernelspec": {
   "display_name": "Python 3 (ipykernel)",
   "language": "python",
   "name": "python3"
  },
  "language_info": {
   "codemirror_mode": {
    "name": "ipython",
    "version": 3
   },
   "file_extension": ".py",
   "mimetype": "text/x-python",
   "name": "python",
   "nbconvert_exporter": "python",
   "pygments_lexer": "ipython3",
   "version": "3.13.5"
  }
 },
 "nbformat": 4,
 "nbformat_minor": 5
}

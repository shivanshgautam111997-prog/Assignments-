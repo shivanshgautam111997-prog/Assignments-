{
 "cells": [
  {
   "cell_type": "code",
   "execution_count": null,
   "id": "f21d7e11-f90e-4abe-bb8f-6271e2f479a9",
   "metadata": {},
   "outputs": [],
   "source": [
    "# All Question : If Statements\n",
    "# Write an if statement to compare two variables, a and b. If b is greater than a, print a message saying \"b is greater than a\".\n",
    "# Write an if-else statement to compare two variables, a and b. If b is greater than a, print \"b is greater than a\". Otherwise, print \"a and b are equal\".\n",
    "# Write an if-elif-else statement to compare two variables, a and b. If b is greater than a, print \"b is greater than a\".\n",
    "If a and b are equal, print \"a and b are equal\". Otherwise, print \"a is greater than b\"."
   ]
  },
  {
   "cell_type": "code",
   "execution_count": 3,
   "id": "f3681199-d8d6-40e7-8e01-4d9c746cd61a",
   "metadata": {},
   "outputs": [],
   "source": [
    "a=50"
   ]
  },
  {
   "cell_type": "code",
   "execution_count": 4,
   "id": "f63cc1c9-51f5-4374-842d-6ce589e45377",
   "metadata": {},
   "outputs": [],
   "source": [
    "b=100"
   ]
  },
  {
   "cell_type": "code",
   "execution_count": 5,
   "id": "199cfa57-6320-4c0a-b7b2-a16a37faab42",
   "metadata": {},
   "outputs": [
    {
     "name": "stdout",
     "output_type": "stream",
     "text": [
      "b is grater then a\n"
     ]
    }
   ],
   "source": [
    "if a>b:\n",
    "    print(\"a is gratert than b\")\n",
    "else:\n",
    "    print(\"b is grater then a\")"
   ]
  },
  {
   "cell_type": "code",
   "execution_count": null,
   "id": "d35912d2-1176-4d5a-87c8-016612a55b31",
   "metadata": {},
   "outputs": [],
   "source": [
    "a=50\n",
    "b=50"
   ]
  },
  {
   "cell_type": "code",
   "execution_count": 6,
   "id": "fff10eed-aef2-4d26-8d8d-8268843f8cad",
   "metadata": {},
   "outputs": [
    {
     "name": "stdout",
     "output_type": "stream",
     "text": [
      "a and b are equal\n"
     ]
    }
   ],
   "source": [
    "if a>b:\n",
    "    print(\"a is grater than b\")\n",
    "else:\n",
    "    print(\"a and b are equal\")"
   ]
  },
  {
   "cell_type": "code",
   "execution_count": 7,
   "id": "a26b2d2d-5e84-4920-990a-68203a7c0e3a",
   "metadata": {},
   "outputs": [],
   "source": [
    "a=50\n",
    "b=50"
   ]
  },
  {
   "cell_type": "code",
   "execution_count": 12,
   "id": "272c020e-60e7-4f55-b5a0-8c19a69f1a03",
   "metadata": {},
   "outputs": [
    {
     "name": "stdout",
     "output_type": "stream",
     "text": [
      "a and b are equal\n"
     ]
    }
   ],
   "source": [
    "if a>b:\n",
    "    print(\"a is grater than b\")\n",
    "elif a==b:\n",
    "    print(\"a and b are equal\")\n",
    "else:\n",
    "    print(\"b is grater then a\")"
   ]
  },
  {
   "cell_type": "code",
   "execution_count": 13,
   "id": "e5e34f04-3975-4d41-bb44-4735b9866d78",
   "metadata": {},
   "outputs": [],
   "source": [
    "# Create a tuple with a single item \"apple\". Print the type of the tuple to confirm it's a tuple.\n",
    "# Create a tuple with the elements (\"apple\", \"banana\", \"cherry\"). Check if the item \"apple\" exists in the tuple and print the result.\n",
    "# Convert a tuple (\"apple\", \"banana\", \"cherry\") to a list. Change the second item to \"kiwi\" and convert it back to a tuple. Print the modified tuple."
   ]
  },
  {
   "cell_type": "code",
   "execution_count": 24,
   "id": "1ed5f101-502b-4a4a-9844-5fe5696b01dd",
   "metadata": {},
   "outputs": [],
   "source": [
    "a=(\"apple\",)"
   ]
  },
  {
   "cell_type": "code",
   "execution_count": 25,
   "id": "321c7e59-4328-437f-90e8-8099ca90877e",
   "metadata": {},
   "outputs": [
    {
     "name": "stdout",
     "output_type": "stream",
     "text": [
      "('apple',)\n"
     ]
    }
   ],
   "source": [
    "print(a)"
   ]
  },
  {
   "cell_type": "code",
   "execution_count": 26,
   "id": "e2e0156d-5984-401c-9fa3-2bccecb2f6ee",
   "metadata": {},
   "outputs": [
    {
     "data": {
      "text/plain": [
       "tuple"
      ]
     },
     "execution_count": 26,
     "metadata": {},
     "output_type": "execute_result"
    }
   ],
   "source": [
    "type(a)"
   ]
  },
  {
   "cell_type": "code",
   "execution_count": 27,
   "id": "929b231b-954e-4633-a19f-9b4e73a14023",
   "metadata": {},
   "outputs": [],
   "source": [
    "a=(\"apple\",\"banana\",\"cherry\")"
   ]
  },
  {
   "cell_type": "code",
   "execution_count": 29,
   "id": "f8c41be7-13fa-4a58-a311-5223fcec2050",
   "metadata": {},
   "outputs": [
    {
     "name": "stdout",
     "output_type": "stream",
     "text": [
      "yes\n"
     ]
    }
   ],
   "source": [
    "if \"apple\" in a:\n",
    "    print(\"yes\")\n",
    "else:\n",
    "    print(\"not present\")"
   ]
  },
  {
   "cell_type": "code",
   "execution_count": 30,
   "id": "238e9481-b3fc-4f9d-9aad-53018d167c8d",
   "metadata": {},
   "outputs": [],
   "source": [
    "x=list(a)"
   ]
  },
  {
   "cell_type": "code",
   "execution_count": 31,
   "id": "6e7bdbe1-6ba2-47a6-b4c6-159f738a649f",
   "metadata": {},
   "outputs": [
    {
     "name": "stdout",
     "output_type": "stream",
     "text": [
      "['apple', 'banana', 'cherry']\n"
     ]
    }
   ],
   "source": [
    "print(x)"
   ]
  },
  {
   "cell_type": "code",
   "execution_count": 37,
   "id": "10812ed2-e78c-4821-8e72-1d6f358ff641",
   "metadata": {},
   "outputs": [],
   "source": [
    "x[1]=\"kivi\""
   ]
  },
  {
   "cell_type": "code",
   "execution_count": 38,
   "id": "2bcaafa2-daff-45f5-b1f6-1830f61e1ea9",
   "metadata": {},
   "outputs": [
    {
     "name": "stdout",
     "output_type": "stream",
     "text": [
      "['apple', 'kivi', 'cherry']\n"
     ]
    }
   ],
   "source": [
    "print(x)"
   ]
  },
  {
   "cell_type": "code",
   "execution_count": 39,
   "id": "b6d973a0-2337-4530-9582-fb4c654a18fd",
   "metadata": {},
   "outputs": [],
   "source": [
    "a=tuple(x)"
   ]
  },
  {
   "cell_type": "code",
   "execution_count": 40,
   "id": "06e8f8de-f11e-417f-a716-1f1c441734ae",
   "metadata": {},
   "outputs": [
    {
     "name": "stdout",
     "output_type": "stream",
     "text": [
      "('apple', 'kivi', 'cherry')\n"
     ]
    }
   ],
   "source": [
    "print(a)"
   ]
  },
  {
   "cell_type": "code",
   "execution_count": 42,
   "id": "d1b29160-be42-4195-9a90-e49ed8ff7071",
   "metadata": {},
   "outputs": [],
   "source": [
    "# Create a set with the elements {\"apple\", \"banana\", \"cherry\"}. Add \"orange\" to the set and remove \"banana\". Print the modified set.\n",
    "# Create a tuple with the elements (\"apple\", \"banana\", \"cherry\"). Use a for loop to print each item in the tuple.\n",
    "# Create a set with the elements {\"apple\", \"banana\", \"cherry\"}. Update it with another set {\"pineapple\", \"mango\", \"papaya\"} and\n",
    "#a list [\"kiwi\", \"orange\"]. Print the updated set."
   ]
  },
  {
   "cell_type": "code",
   "execution_count": 48,
   "id": "7bf34657-bdb6-448a-941f-d1f5c3a82d7e",
   "metadata": {},
   "outputs": [],
   "source": [
    "a={\"apple\", \"banana\", \"cherry\",\"orange\"}"
   ]
  },
  {
   "cell_type": "code",
   "execution_count": 49,
   "id": "3cbee96a-fc8a-46b6-ab5b-d4750995de21",
   "metadata": {},
   "outputs": [
    {
     "name": "stdout",
     "output_type": "stream",
     "text": [
      "{'apple', 'banana', 'cherry', 'orange'}\n"
     ]
    }
   ],
   "source": [
    "print(a)"
   ]
  },
  {
   "cell_type": "code",
   "execution_count": 50,
   "id": "b7cf9113-6bb3-438f-8619-67f58e39ab21",
   "metadata": {},
   "outputs": [
    {
     "data": {
      "text/plain": [
       "set"
      ]
     },
     "execution_count": 50,
     "metadata": {},
     "output_type": "execute_result"
    }
   ],
   "source": [
    "type(a)"
   ]
  },
  {
   "cell_type": "code",
   "execution_count": 54,
   "id": "a9374297-bb85-4c20-b8bb-7b00d42ac632",
   "metadata": {},
   "outputs": [],
   "source": [
    "a.remove(\"banana\")"
   ]
  },
  {
   "cell_type": "code",
   "execution_count": 55,
   "id": "ffc56f95-b3ef-497c-86b7-a81722b150ab",
   "metadata": {},
   "outputs": [
    {
     "name": "stdout",
     "output_type": "stream",
     "text": [
      "{'apple', 'cherry', 'orange'}\n"
     ]
    }
   ],
   "source": [
    "print(a)"
   ]
  },
  {
   "cell_type": "code",
   "execution_count": 56,
   "id": "f80eaaa3-7635-47ca-aabe-0ccf41a01bf3",
   "metadata": {},
   "outputs": [],
   "source": [
    "b=tuple(a)"
   ]
  },
  {
   "cell_type": "code",
   "execution_count": 57,
   "id": "0004f567-2844-487e-bc09-e67531a6a5f8",
   "metadata": {},
   "outputs": [
    {
     "name": "stdout",
     "output_type": "stream",
     "text": [
      "('apple', 'cherry', 'orange')\n"
     ]
    }
   ],
   "source": [
    "print(b)"
   ]
  },
  {
   "cell_type": "code",
   "execution_count": 58,
   "id": "31670bf9-4dc1-4116-9774-5b34a2ea95e3",
   "metadata": {},
   "outputs": [
    {
     "data": {
      "text/plain": [
       "tuple"
      ]
     },
     "execution_count": 58,
     "metadata": {},
     "output_type": "execute_result"
    }
   ],
   "source": [
    "type(b)"
   ]
  },
  {
   "cell_type": "code",
   "execution_count": 59,
   "id": "c08d3dd9-4878-447b-b97e-ca9a850fe203",
   "metadata": {},
   "outputs": [
    {
     "name": "stdout",
     "output_type": "stream",
     "text": [
      "apple\n",
      "cherry\n",
      "orange\n"
     ]
    }
   ],
   "source": [
    "for i in b:\n",
    "    print(i)"
   ]
  },
  {
   "cell_type": "code",
   "execution_count": 60,
   "id": "1117bdd0-3e36-4e08-9dad-573746ad8468",
   "metadata": {},
   "outputs": [],
   "source": [
    "a={\"apple\",\"banana\",\"cherry\"}"
   ]
  },
  {
   "cell_type": "code",
   "execution_count": 61,
   "id": "8fd7f584-3b86-4064-9ddf-230f6668bec0",
   "metadata": {},
   "outputs": [],
   "source": [
    "b={\"pineapple\", \"mango\", \"papaya\"} "
   ]
  },
  {
   "cell_type": "code",
   "execution_count": 62,
   "id": "edbfa02c-dd6c-436d-96e5-bc2e86c076d9",
   "metadata": {},
   "outputs": [],
   "source": [
    "a.update(b)"
   ]
  },
  {
   "cell_type": "code",
   "execution_count": 63,
   "id": "5030c9aa-020d-4d93-87fc-c73096428235",
   "metadata": {},
   "outputs": [
    {
     "name": "stdout",
     "output_type": "stream",
     "text": [
      "{'apple', 'banana', 'cherry', 'mango', 'pineapple', 'papaya'}\n"
     ]
    }
   ],
   "source": [
    "print(a)"
   ]
  },
  {
   "cell_type": "code",
   "execution_count": 69,
   "id": "a8b07e1b-ee51-40a3-bca7-a99fece8969d",
   "metadata": {},
   "outputs": [],
   "source": [
    "# Create a tuple with the elements (\"apple\", \"banana\", \"cherry\"). Access and print the second element of the tuple."
   ]
  },
  {
   "cell_type": "code",
   "execution_count": 70,
   "id": "df485d78-f099-451b-a0cc-25ea0f93ada7",
   "metadata": {},
   "outputs": [],
   "source": [
    "a=(\"apple\",\"banana\",\"cherry\")"
   ]
  },
  {
   "cell_type": "code",
   "execution_count": 71,
   "id": "92ff9f47-cc5f-472d-abb2-160abe880d60",
   "metadata": {},
   "outputs": [
    {
     "name": "stdout",
     "output_type": "stream",
     "text": [
      "('apple', 'banana', 'cherry')\n"
     ]
    }
   ],
   "source": [
    "print(a)"
   ]
  },
  {
   "cell_type": "code",
   "execution_count": 72,
   "id": "b355f262-603c-439d-ba51-74f29c3a7a59",
   "metadata": {},
   "outputs": [
    {
     "data": {
      "text/plain": [
       "tuple"
      ]
     },
     "execution_count": 72,
     "metadata": {},
     "output_type": "execute_result"
    }
   ],
   "source": [
    "type(a)"
   ]
  },
  {
   "cell_type": "code",
   "execution_count": 73,
   "id": "b3990b20-84e4-495d-b031-d5e9614dba48",
   "metadata": {},
   "outputs": [
    {
     "name": "stdout",
     "output_type": "stream",
     "text": [
      "banana\n"
     ]
    }
   ],
   "source": [
    "print(a[1])"
   ]
  },
  {
   "cell_type": "code",
   "execution_count": null,
   "id": "b86392a5-222b-425c-b441-af2248568d28",
   "metadata": {},
   "outputs": [],
   "source": []
  }
 ],
 "metadata": {
  "kernelspec": {
   "display_name": "Python 3 (ipykernel)",
   "language": "python",
   "name": "python3"
  },
  "language_info": {
   "codemirror_mode": {
    "name": "ipython",
    "version": 3
   },
   "file_extension": ".py",
   "mimetype": "text/x-python",
   "name": "python",
   "nbconvert_exporter": "python",
   "pygments_lexer": "ipython3",
   "version": "3.13.5"
  }
 },
 "nbformat": 4,
 "nbformat_minor": 5
}

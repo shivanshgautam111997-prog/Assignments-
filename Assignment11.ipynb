{
 "cells": [
  {
   "cell_type": "code",
   "execution_count": 1,
   "id": "dcad7b2c-e852-49b1-922f-0fcef4705bba",
   "metadata": {},
   "outputs": [],
   "source": [
    "#1) Write a Python program that attempts to divide a number by zero within a try block. Catch the resulting ZeroDivisionError and print a custom message.\n",
    "#2) Write a Python program that attempts to print an undefined variable within a try block. Catch the resulting NameError and print \n",
    "# \"Variable is not defined\"."
   ]
  },
  {
   "cell_type": "code",
   "execution_count": 2,
   "id": "32208a0c-8919-4270-aa53-37deab526ec6",
   "metadata": {},
   "outputs": [
    {
     "ename": "ZeroDivisionError",
     "evalue": "division by zero",
     "output_type": "error",
     "traceback": [
      "\u001b[1;31m---------------------------------------------------------------------------\u001b[0m",
      "\u001b[1;31mZeroDivisionError\u001b[0m                         Traceback (most recent call last)",
      "Cell \u001b[1;32mIn[2], line 1\u001b[0m\n\u001b[1;32m----> 1\u001b[0m a\u001b[38;5;241m=\u001b[39m(\u001b[38;5;241m8\u001b[39m\u001b[38;5;241m/\u001b[39m\u001b[38;5;241m0\u001b[39m)\n",
      "\u001b[1;31mZeroDivisionError\u001b[0m: division by zero"
     ]
    }
   ],
   "source": [
    "a=(8/0)"
   ]
  },
  {
   "cell_type": "code",
   "execution_count": 4,
   "id": "9c5ef121-ac92-4f7d-9d66-48dac6be19ad",
   "metadata": {},
   "outputs": [
    {
     "name": "stdout",
     "output_type": "stream",
     "text": [
      "we can't devided any number by zero\n"
     ]
    }
   ],
   "source": [
    "try:\n",
    "    print(a)\n",
    "except:\n",
    "    print(\"we can't devided any number by zero\")"
   ]
  },
  {
   "cell_type": "code",
   "execution_count": 6,
   "id": "1eb10b81-89b3-4bf8-8dc5-ca1e0eb56d9c",
   "metadata": {},
   "outputs": [
    {
     "name": "stdout",
     "output_type": "stream",
     "text": [
      "variable is not defined\n"
     ]
    }
   ],
   "source": [
    "try:\n",
    "    print(b)\n",
    "except:\n",
    "    print(\"variable is not defined\")"
   ]
  },
  {
   "cell_type": "code",
   "execution_count": null,
   "id": "9c0b9164-9763-4702-ad69-374d04fbf148",
   "metadata": {},
   "outputs": [],
   "source": [
    "#3) Write a Python program that attempts to open a non-existent file. Catch the resulting FileNotFoundError, print an error message, \n",
    "#and ensure that a finally block prints \"Operation finished\" regardless of the outcome.\n",
    "#4) Write a Python program that uses a try block to check if a number is positive. If the number is positive, use the else block to print \n",
    "#\"The number is positive\". Catch any exceptions that occur during the check."
   ]
  },
  {
   "cell_type": "code",
   "execution_count": 20,
   "id": "a334514f-750f-40b9-8ec1-9ca9aaad61ff",
   "metadata": {},
   "outputs": [
    {
     "name": "stdout",
     "output_type": "stream",
     "text": [
      "file not fount error\n",
      "operaction finished\n"
     ]
    }
   ],
   "source": [
    "try:\n",
    "    open(\"shiv.txt\")\n",
    "except:\n",
    "    print(\"file not fount error\")\n",
    "finally:\n",
    "    print(\"operaction finished\") "
   ]
  },
  {
   "cell_type": "code",
   "execution_count": 24,
   "id": "3443b4e7-950a-409b-868b-1fe90b715678",
   "metadata": {},
   "outputs": [
    {
     "name": "stdout",
     "output_type": "stream",
     "text": [
      "Error: Number is not positive\n"
     ]
    }
   ],
   "source": [
    "try:\n",
    "    a = -1 \n",
    "\n",
    "    if a <= 0:\n",
    "        raise ValueError(\"Number is not positive\")\n",
    "\n",
    "except Exception as e:\n",
    "    print(f\"Error: {e}\")\n",
    "\n",
    "else:\n",
    "    print(\"The number is positive\")\n"
   ]
  },
  {
   "cell_type": "code",
   "execution_count": 25,
   "id": "edb2d5d4-9201-496c-894e-f60aaf113c27",
   "metadata": {},
   "outputs": [],
   "source": [
    "#5) Write a Python program that raises a ValueError if a variable age is set to a negative number. Include a custom error message that states\n",
    "#\"Age cannot be negative\"."
   ]
  },
  {
   "cell_type": "code",
   "execution_count": 40,
   "id": "f73d48ce-8ecd-47a6-9e6a-039815788802",
   "metadata": {},
   "outputs": [
    {
     "ename": "Exception",
     "evalue": "age cannot negative",
     "output_type": "error",
     "traceback": [
      "\u001b[1;31m---------------------------------------------------------------------------\u001b[0m",
      "\u001b[1;31mException\u001b[0m                                 Traceback (most recent call last)",
      "Cell \u001b[1;32mIn[40], line 4\u001b[0m\n\u001b[0;32m      1\u001b[0m a\u001b[38;5;241m=\u001b[39m\u001b[38;5;241m-\u001b[39m\u001b[38;5;241m1\u001b[39m\n\u001b[0;32m      3\u001b[0m \u001b[38;5;28;01mif\u001b[39;00m a\u001b[38;5;241m<\u001b[39m\u001b[38;5;241m0\u001b[39m:\n\u001b[1;32m----> 4\u001b[0m     \u001b[38;5;28;01mraise\u001b[39;00m \u001b[38;5;167;01mException\u001b[39;00m(\u001b[38;5;124m\"\u001b[39m\u001b[38;5;124mage cannot negative\u001b[39m\u001b[38;5;124m\"\u001b[39m)\n",
      "\u001b[1;31mException\u001b[0m: age cannot negative"
     ]
    }
   ],
   "source": [
    "a=-1\n",
    "\n",
    "if a<0:\n",
    "    raise Exception(\"age cannot negative\") "
   ]
  },
  {
   "cell_type": "code",
   "execution_count": 39,
   "id": "fc2ae300-69df-4bf7-ae7f-f37b51d4eb44",
   "metadata": {},
   "outputs": [
    {
     "name": "stdout",
     "output_type": "stream",
     "text": [
      "6\n"
     ]
    }
   ],
   "source": [
    "print(a)"
   ]
  },
  {
   "cell_type": "code",
   "execution_count": null,
   "id": "3e74d23c-af9f-43ec-a18f-dc60d905c193",
   "metadata": {},
   "outputs": [],
   "source": []
  }
 ],
 "metadata": {
  "kernelspec": {
   "display_name": "Python 3 (ipykernel)",
   "language": "python",
   "name": "python3"
  },
  "language_info": {
   "codemirror_mode": {
    "name": "ipython",
    "version": 3
   },
   "file_extension": ".py",
   "mimetype": "text/x-python",
   "name": "python",
   "nbconvert_exporter": "python",
   "pygments_lexer": "ipython3",
   "version": "3.13.5"
  }
 },
 "nbformat": 4,
 "nbformat_minor": 5
}

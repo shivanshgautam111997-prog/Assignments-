{
 "cells": [
  {
   "cell_type": "code",
   "execution_count": 1,
   "id": "d1c3197d-09ed-40fd-a55e-ab351c832148",
   "metadata": {},
   "outputs": [],
   "source": [
    "# 1. Create a variable `city` and assign the name of your favorite city to it. Print the variable.\n",
    "# 2. Print the data type of the variable `city`.\n",
    "# 3. Convert the integer `42` to a string and assign it to a new variable. Print the new variable.\n",
    "# 4. Use len() on your name variable and count lenght of your name\n",
    "# 5. use \" if \" statement to to check \"code\" word exist or not in \" code square"
   ]
  },
  {
   "cell_type": "code",
   "execution_count": 2,
   "id": "3775aef2-574e-4472-ab55-6aa69c6e0b05",
   "metadata": {},
   "outputs": [],
   "source": [
    "city=[\"Kanpur Nagar\",\"Lucknow\",\"Delhi\",\"Prayagraj\",\"Agra\"]"
   ]
  },
  {
   "cell_type": "code",
   "execution_count": 3,
   "id": "6dedab56-abd0-498b-b816-c93d800c49e0",
   "metadata": {},
   "outputs": [
    {
     "name": "stdout",
     "output_type": "stream",
     "text": [
      "['Kanpur Nagar', 'Lucknow', 'Delhi', 'Prayagraj', 'Agra']\n"
     ]
    }
   ],
   "source": [
    "print(city)"
   ]
  },
  {
   "cell_type": "code",
   "execution_count": 4,
   "id": "d0ea428a-8533-43e1-be08-7e604f9aa7d5",
   "metadata": {},
   "outputs": [
    {
     "data": {
      "text/plain": [
       "list"
      ]
     },
     "execution_count": 4,
     "metadata": {},
     "output_type": "execute_result"
    }
   ],
   "source": [
    "type(city)"
   ]
  },
  {
   "cell_type": "code",
   "execution_count": 8,
   "id": "9824309d-7281-426d-9ae0-268d25b6f089",
   "metadata": {},
   "outputs": [],
   "source": [
    "a=str(49)"
   ]
  },
  {
   "cell_type": "code",
   "execution_count": 9,
   "id": "13be6e0e-681b-4323-b76b-b23902c88fe4",
   "metadata": {},
   "outputs": [],
   "source": [
    "b=\"shiv\""
   ]
  },
  {
   "cell_type": "code",
   "execution_count": 10,
   "id": "25ad925f-52a2-403e-9ff6-4d07f2c2bc1c",
   "metadata": {},
   "outputs": [
    {
     "name": "stdout",
     "output_type": "stream",
     "text": [
      "49shiv\n"
     ]
    }
   ],
   "source": [
    "print(a+b)"
   ]
  },
  {
   "cell_type": "code",
   "execution_count": 11,
   "id": "ee387cb7-766b-4605-9ec9-47baf9133ed3",
   "metadata": {},
   "outputs": [],
   "source": [
    "my_name=\"Shivanshu Gautam\""
   ]
  },
  {
   "cell_type": "code",
   "execution_count": 12,
   "id": "34c03354-7069-49b8-9650-9a6e4cc63b94",
   "metadata": {},
   "outputs": [
    {
     "name": "stdout",
     "output_type": "stream",
     "text": [
      "Shivanshu Gautam\n"
     ]
    }
   ],
   "source": [
    "print(my_name)"
   ]
  },
  {
   "cell_type": "code",
   "execution_count": 13,
   "id": "b33dabae-5aa8-466d-8571-089b27ceb543",
   "metadata": {},
   "outputs": [
    {
     "data": {
      "text/plain": [
       "16"
      ]
     },
     "execution_count": 13,
     "metadata": {},
     "output_type": "execute_result"
    }
   ],
   "source": [
    "len(my_name)"
   ]
  },
  {
   "cell_type": "code",
   "execution_count": 27,
   "id": "86bdcc6e-ea2d-4ad5-bb27-063f8aa5e3e9",
   "metadata": {},
   "outputs": [],
   "source": [
    "x = \"code square it is a platform for data science\""
   ]
  },
  {
   "cell_type": "code",
   "execution_count": 28,
   "id": "5c488f9b-135f-4042-8bfd-2b0414507a5d",
   "metadata": {},
   "outputs": [
    {
     "name": "stdout",
     "output_type": "stream",
     "text": [
      "code square it is a platform for data science\n"
     ]
    }
   ],
   "source": [
    "print(x)"
   ]
  },
  {
   "cell_type": "code",
   "execution_count": 29,
   "id": "b34a9c9f-1d5d-4eed-ae55-837dc85b7cc0",
   "metadata": {},
   "outputs": [
    {
     "name": "stdout",
     "output_type": "stream",
     "text": [
      "yes\n"
     ]
    }
   ],
   "source": [
    "if \"code\" in x :\n",
    "    print (\"yes\")\n",
    "else :\n",
    "    print (\"Not Present\")"
   ]
  },
  {
   "cell_type": "code",
   "execution_count": null,
   "id": "dfdad716-9a6a-4a4b-92f4-91a97dbc023e",
   "metadata": {},
   "outputs": [],
   "source": []
  }
 ],
 "metadata": {
  "kernelspec": {
   "display_name": "Python 3 (ipykernel)",
   "language": "python",
   "name": "python3"
  },
  "language_info": {
   "codemirror_mode": {
    "name": "ipython",
    "version": 3
   },
   "file_extension": ".py",
   "mimetype": "text/x-python",
   "name": "python",
   "nbconvert_exporter": "python",
   "pygments_lexer": "ipython3",
   "version": "3.13.5"
  }
 },
 "nbformat": 4,
 "nbformat_minor": 5
}

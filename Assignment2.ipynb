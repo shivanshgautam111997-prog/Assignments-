{
 "cells": [
  {
   "cell_type": "code",
   "execution_count": 1,
   "id": "8cac3cb6-8769-4006-99e4-cf1d1f983770",
   "metadata": {},
   "outputs": [],
   "source": [
    "# 1 Concatinate two variable of your firstname & last name\n",
    "# 2 create a string variable of your firstname & lastname slice a string using indexing so it will print your firstname\n",
    "# 3 Creat a list with diffrent states of India\n",
    "# 4 Use for loop to print items from list"
   ]
  },
  {
   "cell_type": "code",
   "execution_count": 2,
   "id": "86aacc30-d161-443d-9142-f4628acf95d9",
   "metadata": {},
   "outputs": [],
   "source": [
    "first_name=\"shivanshu\"\n",
    "last_name=\"gautam\""
   ]
  },
  {
   "cell_type": "code",
   "execution_count": 4,
   "id": "7a1c314f-285a-496f-af5d-342dcc8034f5",
   "metadata": {},
   "outputs": [
    {
     "name": "stdout",
     "output_type": "stream",
     "text": [
      "shivanshugautam\n"
     ]
    }
   ],
   "source": [
    "print(first_name+last_name)"
   ]
  },
  {
   "cell_type": "code",
   "execution_count": 5,
   "id": "af963e5b-975e-4988-92d6-ede57e557cfa",
   "metadata": {},
   "outputs": [],
   "source": [
    "a=\"shivanshu gautam\""
   ]
  },
  {
   "cell_type": "code",
   "execution_count": 8,
   "id": "26ca86ec-3abe-4546-91af-cbbcd19cf82b",
   "metadata": {},
   "outputs": [
    {
     "data": {
      "text/plain": [
       "'shivanshu'"
      ]
     },
     "execution_count": 8,
     "metadata": {},
     "output_type": "execute_result"
    }
   ],
   "source": [
    "a [0:9]"
   ]
  },
  {
   "cell_type": "code",
   "execution_count": 16,
   "id": "aa87fee2-99c2-40a1-93a1-e7b9c437e4ff",
   "metadata": {},
   "outputs": [],
   "source": [
    "state=[\"Delhi,Uttar Pradesh,Gujrat,Panjab,Bihar\"]"
   ]
  },
  {
   "cell_type": "code",
   "execution_count": 17,
   "id": "b57e5c4d-7984-4e56-8e5b-a1c41dd0935e",
   "metadata": {},
   "outputs": [
    {
     "name": "stdout",
     "output_type": "stream",
     "text": [
      "['Delhi,Uttar Pradesh,Gujrat,Panjab,Bihar']\n"
     ]
    }
   ],
   "source": [
    "print(state)"
   ]
  },
  {
   "cell_type": "code",
   "execution_count": 13,
   "id": "3240c751-3ce1-45de-8ecc-f70f49025d27",
   "metadata": {},
   "outputs": [
    {
     "data": {
      "text/plain": [
       "list"
      ]
     },
     "execution_count": 13,
     "metadata": {},
     "output_type": "execute_result"
    }
   ],
   "source": [
    "type(s)"
   ]
  },
  {
   "cell_type": "code",
   "execution_count": 18,
   "id": "b641c044-98b8-4cf2-917b-f2e60ad3eec9",
   "metadata": {},
   "outputs": [
    {
     "name": "stdout",
     "output_type": "stream",
     "text": [
      "Delhi,Uttar Pradesh,Gujrat,Panjab,Bihar\n"
     ]
    }
   ],
   "source": [
    "for i in state :\n",
    "    print(i)"
   ]
  }
 ],
 "metadata": {
  "kernelspec": {
   "display_name": "Python 3 (ipykernel)",
   "language": "python",
   "name": "python3"
  },
  "language_info": {
   "codemirror_mode": {
    "name": "ipython",
    "version": 3
   },
   "file_extension": ".py",
   "mimetype": "text/x-python",
   "name": "python",
   "nbconvert_exporter": "python",
   "pygments_lexer": "ipython3",
   "version": "3.13.5"
  }
 },
 "nbformat": 4,
 "nbformat_minor": 5
}

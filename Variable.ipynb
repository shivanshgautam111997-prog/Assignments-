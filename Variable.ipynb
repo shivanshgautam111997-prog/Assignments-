{
 "cells": [
  {
   "cell_type": "code",
   "execution_count": 2,
   "id": "950dfa8e-1128-43c5-a6b6-c9171effbb7b",
   "metadata": {},
   "outputs": [],
   "source": [
    "a=2"
   ]
  },
  {
   "cell_type": "code",
   "execution_count": 3,
   "id": "8008a8e0-fb26-43f8-8814-27c656c46b48",
   "metadata": {},
   "outputs": [
    {
     "name": "stdout",
     "output_type": "stream",
     "text": [
      "2\n"
     ]
    }
   ],
   "source": [
    "print(a)"
   ]
  },
  {
   "cell_type": "code",
   "execution_count": 4,
   "id": "0f58dcfc-4c39-4f00-9a45-5e620a6d3c54",
   "metadata": {},
   "outputs": [],
   "source": [
    "b=4"
   ]
  },
  {
   "cell_type": "code",
   "execution_count": 5,
   "id": "82739a4a-f353-4664-89d0-17eec2688b41",
   "metadata": {},
   "outputs": [
    {
     "name": "stdout",
     "output_type": "stream",
     "text": [
      "4\n"
     ]
    }
   ],
   "source": [
    "print(b)"
   ]
  },
  {
   "cell_type": "code",
   "execution_count": 6,
   "id": "75cb197f-fc13-4ca5-89b4-e48f6bc5456f",
   "metadata": {},
   "outputs": [],
   "source": [
    "c=6"
   ]
  },
  {
   "cell_type": "code",
   "execution_count": 7,
   "id": "65a6c0a8-fae2-4e74-a6e7-8897e2bfa4d7",
   "metadata": {},
   "outputs": [
    {
     "data": {
      "text/plain": [
       "6"
      ]
     },
     "execution_count": 7,
     "metadata": {},
     "output_type": "execute_result"
    }
   ],
   "source": [
    "c"
   ]
  },
  {
   "cell_type": "code",
   "execution_count": 8,
   "id": "ed1f5e48-94f8-466f-888f-3bbd6eb75802",
   "metadata": {},
   "outputs": [
    {
     "name": "stdout",
     "output_type": "stream",
     "text": [
      "48\n"
     ]
    }
   ],
   "source": [
    "print(a*b*c)"
   ]
  },
  {
   "cell_type": "code",
   "execution_count": 10,
   "id": "33645cf9-eabf-4a3e-9f58-6b7dce5aad45",
   "metadata": {},
   "outputs": [],
   "source": [
    "phone_number=9807937540"
   ]
  },
  {
   "cell_type": "code",
   "execution_count": 11,
   "id": "49519fc6-2d58-4ef6-9daf-c018147995c7",
   "metadata": {},
   "outputs": [
    {
     "data": {
      "text/plain": [
       "9807937540"
      ]
     },
     "execution_count": 11,
     "metadata": {},
     "output_type": "execute_result"
    }
   ],
   "source": [
    "phone_number"
   ]
  },
  {
   "cell_type": "code",
   "execution_count": 12,
   "id": "a67fee8f-6bdb-4c16-b548-72748581e074",
   "metadata": {},
   "outputs": [],
   "source": [
    "age=25"
   ]
  },
  {
   "cell_type": "code",
   "execution_count": null,
   "id": "8917b0c5-4065-4b32-83cc-b61a99f89b8a",
   "metadata": {},
   "outputs": [],
   "source": []
  }
 ],
 "metadata": {
  "kernelspec": {
   "display_name": "Python 3 (ipykernel)",
   "language": "python",
   "name": "python3"
  },
  "language_info": {
   "codemirror_mode": {
    "name": "ipython",
    "version": 3
   },
   "file_extension": ".py",
   "mimetype": "text/x-python",
   "name": "python",
   "nbconvert_exporter": "python",
   "pygments_lexer": "ipython3",
   "version": "3.13.5"
  }
 },
 "nbformat": 4,
 "nbformat_minor": 5
}
